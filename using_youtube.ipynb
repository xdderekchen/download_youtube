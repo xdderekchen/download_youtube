{
  "nbformat": 4,
  "nbformat_minor": 0,
  "metadata": {
    "colab": {
      "provenance": [],
      "authorship_tag": "ABX9TyN1u2jmCw1r4swO2DW9abul",
      "include_colab_link": true
    },
    "kernelspec": {
      "name": "python3",
      "display_name": "Python 3"
    },
    "language_info": {
      "name": "python"
    }
  },
  "cells": [
    {
      "cell_type": "markdown",
      "metadata": {
        "id": "view-in-github",
        "colab_type": "text"
      },
      "source": [
        "<a href=\"https://colab.research.google.com/github/xdderekchen/download_youtube/blob/main/using_youtube.ipynb\" target=\"_parent\"><img src=\"https://colab.research.google.com/assets/colab-badge.svg\" alt=\"Open In Colab\"/></a>"
      ]
    },
    {
      "cell_type": "markdown",
      "source": [
        "# **How to download audio from youtube**\n",
        "\n",
        "\n",
        "There are two python packages which can download Videc and/or Audio.\n",
        "\n",
        "# 1. youtube-dl\n",
        "\n",
        "   Ref: https://youtube-dl.readthedocs.io/en/latest/\n",
        "\n",
        "# 2. pytube\n",
        "\n",
        "   Ref:  https://pytube.io/en/latest/user/streams.html"
      ],
      "metadata": {
        "id": "imKd5mwd5UkG"
      }
    },
    {
      "cell_type": "markdown",
      "source": [
        "# 1. Using youtube-dl"
      ],
      "metadata": {
        "id": "0pS3IT5p4a4F"
      }
    },
    {
      "cell_type": "markdown",
      "source": [
        "**1.1 API**"
      ],
      "metadata": {
        "id": "jSmaTagZ5VIb"
      }
    },
    {
      "cell_type": "code",
      "source": [
        "#Insall youtube_dl package\n",
        "!pip install youtube_dl"
      ],
      "metadata": {
        "colab": {
          "base_uri": "https://localhost:8080/"
        },
        "id": "KVlOEb9wOVf2",
        "outputId": "dadbab7e-f16b-42b7-dfb2-9d03114bd6d3"
      },
      "execution_count": null,
      "outputs": [
        {
          "output_type": "stream",
          "name": "stdout",
          "text": [
            "Looking in indexes: https://pypi.org/simple, https://us-python.pkg.dev/colab-wheels/public/simple/\n",
            "Requirement already satisfied: youtube_dl in /usr/local/lib/python3.8/dist-packages (2021.12.17)\n"
          ]
        }
      ]
    },
    {
      "cell_type": "code",
      "execution_count": null,
      "metadata": {
        "id": "YcdZxV_kODEi"
      },
      "outputs": [],
      "source": [
        "#Sample API\n",
        "import youtube_dl\n",
        "def download_youtube_as_mp3(youtube_url, filename=\"\"):\n",
        " \n",
        "    video_info = youtube_dl.YoutubeDL().extract_info(url = youtube_url,download=False)   #download -- whether to download videos during extraction\n",
        "    if (filename.strip()):\n",
        "        _filename = filename.strip()\n",
        "    else: \n",
        "        _filename = f\"{video_info['title']}.mp3\"\n",
        "  \n",
        "    options={\n",
        "        'format':'bestaudio/best',\n",
        "        'keepvideo':False,\n",
        "        'outtmpl':filename,\n",
        "    }\n",
        "    print(\"weburl: \" , video_info['webpage_url'])\n",
        "    with youtube_dl.YoutubeDL(options) as ydl:\n",
        "        ydl.download([video_info['webpage_url']])\n",
        "    print(\"Download complete... {}\".format(filename))\n"
      ]
    },
    {
      "cell_type": "markdown",
      "source": [
        "**1.2 Examples**"
      ],
      "metadata": {
        "id": "a5u10jCWxt8Q"
      }
    },
    {
      "cell_type": "code",
      "source": [
        "#离别草原\n",
        "#download_youtube_as_mp3(\"https://www.youtube.com/watch?v=u76t3wrTDAQ\", \"离别草原.mp3\" )\n",
        "\n",
        "#我爱你中国\n",
        "download_youtube_as_mp3(\"https://www.youtube.com/watch?v=dT8wCG98fnc\", \"我爱你中国.mp3\")"
      ],
      "metadata": {
        "id": "C3I6RGc0RsMx",
        "colab": {
          "base_uri": "https://localhost:8080/"
        },
        "outputId": "cfabdc40-dd50-40ba-bcf1-b5a4b7acdeef"
      },
      "execution_count": null,
      "outputs": [
        {
          "output_type": "stream",
          "name": "stdout",
          "text": [
            "[youtube] dT8wCG98fnc: Downloading webpage\n",
            "weburl:  https://www.youtube.com/watch?v=dT8wCG98fnc\n",
            "[youtube] dT8wCG98fnc: Downloading webpage\n",
            "[download] 我爱你中国.mp3 has already been downloaded\n",
            "[download] 100% of 4.90MiB\n",
            "[ffmpeg] Correcting container in \"我爱你中国.mp3\"\n",
            "Download complete... 我爱你中国.mp3\n"
          ]
        }
      ]
    },
    {
      "cell_type": "markdown",
      "source": [
        "# 2. Using pytube"
      ],
      "metadata": {
        "id": "1hRG2Bu65yPC"
      }
    },
    {
      "cell_type": "code",
      "source": [
        "\n",
        "!pip install pytube\n",
        "\n",
        "#https://pytube.io/en/latest/user/streams.html"
      ],
      "metadata": {
        "colab": {
          "base_uri": "https://localhost:8080/"
        },
        "id": "pGParGY1w4LF",
        "outputId": "35b1a567-95eb-440e-8b30-bfbca8ee25bc"
      },
      "execution_count": 1,
      "outputs": [
        {
          "output_type": "stream",
          "name": "stdout",
          "text": [
            "Looking in indexes: https://pypi.org/simple, https://us-python.pkg.dev/colab-wheels/public/simple/\n",
            "Collecting pytube\n",
            "  Downloading pytube-12.1.2-py3-none-any.whl (57 kB)\n",
            "\u001b[2K     \u001b[90m━━━━━━━━━━━━━━━━━━━━━━━━━━━━━━━━━━━━━━━━\u001b[0m \u001b[32m57.0/57.0 KB\u001b[0m \u001b[31m1.7 MB/s\u001b[0m eta \u001b[36m0:00:00\u001b[0m\n",
            "\u001b[?25hInstalling collected packages: pytube\n",
            "Successfully installed pytube-12.1.2\n"
          ]
        }
      ]
    },
    {
      "cell_type": "code",
      "source": [
        "from pytube import YouTube\n",
        "\n",
        "def download_youtube2_as_mp3(youtube_url, filename=\"\"):\n",
        "    yt = YouTube(youtube_url)\n",
        "    stream= yt.streams.filter(only_audio=True).last()\n",
        "    print(stream)\n",
        "    if (filename.strip()):\n",
        "       _filename = filename\n",
        "       stream.download(filename=_filename)\n",
        "    else:\n",
        "        _filename = stream.default_filename\n",
        "        stream.download()\n",
        "    print(\"Download complete... {}\".format(_filename))"
      ],
      "metadata": {
        "id": "lTOKT5FZxG4P"
      },
      "execution_count": 19,
      "outputs": []
    },
    {
      "cell_type": "markdown",
      "source": [
        "**2.2 Examples**"
      ],
      "metadata": {
        "id": "o5pU_gE28ML_"
      }
    },
    {
      "cell_type": "code",
      "source": [
        "#离别草原\n",
        "download_youtube2_as_mp3(\"https://www.youtube.com/watch?v=u76t3wrTDAQ\", \"离别草原.mp3\" )\n",
        "\n",
        "#我爱你中国\n",
        "download_youtube2_as_mp3(\"https://www.youtube.com/watch?v=dT8wCG98fnc\", \"我爱你中国.mp3\")"
      ],
      "metadata": {
        "colab": {
          "base_uri": "https://localhost:8080/"
        },
        "id": "ZtYTVczWzZgu",
        "outputId": "738098dc-19ef-4728-fb17-1a3f499ae4ab"
      },
      "execution_count": 20,
      "outputs": [
        {
          "output_type": "stream",
          "name": "stdout",
          "text": [
            "<Stream: itag=\"251\" mime_type=\"audio/webm\" abr=\"160kbps\" acodec=\"opus\" progressive=\"False\" type=\"audio\">\n",
            "Download complete... 离别草原.mp3\n",
            "<Stream: itag=\"251\" mime_type=\"audio/webm\" abr=\"160kbps\" acodec=\"opus\" progressive=\"False\" type=\"audio\">\n",
            "Download complete... 我爱你中国.mp3\n"
          ]
        }
      ]
    }
  ]
}