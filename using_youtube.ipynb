{
  "nbformat": 4,
  "nbformat_minor": 0,
  "metadata": {
    "colab": {
      "provenance": [],
      "authorship_tag": "ABX9TyP6QSTrj8V8JW43QWUhODtJ",
      "include_colab_link": true
    },
    "kernelspec": {
      "name": "python3",
      "display_name": "Python 3"
    },
    "language_info": {
      "name": "python"
    }
  },
  "cells": [
    {
      "cell_type": "markdown",
      "metadata": {
        "id": "view-in-github",
        "colab_type": "text"
      },
      "source": [
        "<a href=\"https://colab.research.google.com/github/xdderekchen/download_youtube/blob/main/using_youtube.ipynb\" target=\"_parent\"><img src=\"https://colab.research.google.com/assets/colab-badge.svg\" alt=\"Open In Colab\"/></a>"
      ]
    },
    {
      "cell_type": "markdown",
      "source": [
        "**How to download audio from youtube**\n",
        "\n",
        "\n",
        "\n",
        "\n",
        "\n",
        "reference: https://youtube-dl.readthedocs.io/en/latest/"
      ],
      "metadata": {
        "id": "imKd5mwd5UkG"
      }
    },
    {
      "cell_type": "code",
      "source": [
        "#Insall python package\n",
        "\n",
        "!pip install youtube_dl"
      ],
      "metadata": {
        "colab": {
          "base_uri": "https://localhost:8080/"
        },
        "id": "KVlOEb9wOVf2",
        "outputId": "dadbab7e-f16b-42b7-dfb2-9d03114bd6d3"
      },
      "execution_count": null,
      "outputs": [
        {
          "output_type": "stream",
          "name": "stdout",
          "text": [
            "Looking in indexes: https://pypi.org/simple, https://us-python.pkg.dev/colab-wheels/public/simple/\n",
            "Requirement already satisfied: youtube_dl in /usr/local/lib/python3.8/dist-packages (2021.12.17)\n"
          ]
        }
      ]
    },
    {
      "cell_type": "code",
      "execution_count": null,
      "metadata": {
        "id": "YcdZxV_kODEi"
      },
      "outputs": [],
      "source": [
        "import youtube_dl\n",
        "def download_youtube_as_mp3(youtube_url, filename=\"\"):\n",
        " \n",
        "    video_info = youtube_dl.YoutubeDL().extract_info(url = youtube_url,download=False)   #download -- whether to download videos during extraction\n",
        "    if (filename.strip()):\n",
        "        _filename = filename.strip()\n",
        "    else: \n",
        "        _filename = f\"{video_info['title']}.mp3\"\n",
        "  \n",
        "    options={\n",
        "        'format':'bestaudio/best',\n",
        "        'keepvideo':False,\n",
        "        'outtmpl':filename,\n",
        "    }\n",
        "    print(\"weburl: \" , video_info['webpage_url'])\n",
        "    with youtube_dl.YoutubeDL(options) as ydl:\n",
        "        ydl.download([video_info['webpage_url']])\n",
        "    print(\"Download complete... {}\".format(filename))\n"
      ]
    },
    {
      "cell_type": "markdown",
      "source": [
        "**Examples**"
      ],
      "metadata": {
        "id": "a5u10jCWxt8Q"
      }
    },
    {
      "cell_type": "code",
      "source": [
        "#离别草原\n",
        "#download_youtube_as_mp3(\"https://www.youtube.com/watch?v=u76t3wrTDAQ\", \"离别草原.mp3\" )\n",
        "\n",
        "#我爱你中国\n",
        "download_youtube_as_mp3(\"https://www.youtube.com/watch?v=dT8wCG98fnc\", \"我爱你中国.mp3\")"
      ],
      "metadata": {
        "id": "C3I6RGc0RsMx",
        "colab": {
          "base_uri": "https://localhost:8080/"
        },
        "outputId": "cfabdc40-dd50-40ba-bcf1-b5a4b7acdeef"
      },
      "execution_count": null,
      "outputs": [
        {
          "output_type": "stream",
          "name": "stdout",
          "text": [
            "[youtube] dT8wCG98fnc: Downloading webpage\n",
            "weburl:  https://www.youtube.com/watch?v=dT8wCG98fnc\n",
            "[youtube] dT8wCG98fnc: Downloading webpage\n",
            "[download] 我爱你中国.mp3 has already been downloaded\n",
            "[download] 100% of 4.90MiB\n",
            "[ffmpeg] Correcting container in \"我爱你中国.mp3\"\n",
            "Download complete... 我爱你中国.mp3\n"
          ]
        }
      ]
    }
  ]
}